{
  "nbformat": 4,
  "nbformat_minor": 0,
  "metadata": {
    "colab": {
      "provenance": []
    },
    "kernelspec": {
      "name": "python3",
      "display_name": "Python 3"
    },
    "language_info": {
      "name": "python"
    }
  },
  "cells": [
    {
      "cell_type": "code",
      "execution_count": 1,
      "metadata": {
        "id": "jBZxv9EF-Dtg"
      },
      "outputs": [],
      "source": [
        "import pandas as pd\n",
        "import yfinance as yf\n",
        "from statsmodels.tsa.stattools import adfuller, kpss"
      ]
    },
    {
      "cell_type": "code",
      "source": [
        "stock1 = yf.download(\"AAPL\", start=\"2023-01-01\", end=\"2024-12-31\")['Close']\n",
        "stock2 = yf.download(\"MSFT\", start=\"2023-01-01\", end=\"2024-12-31\")['Close']"
      ],
      "metadata": {
        "colab": {
          "base_uri": "https://localhost:8080/"
        },
        "id": "hxa8eclo-HO9",
        "outputId": "c31882a5-1764-4a3b-a539-ad3ec59dc6bf"
      },
      "execution_count": 2,
      "outputs": [
        {
          "output_type": "stream",
          "name": "stderr",
          "text": [
            "[*********************100%***********************]  1 of 1 completed\n",
            "[*********************100%***********************]  1 of 1 completed\n"
          ]
        }
      ]
    },
    {
      "cell_type": "code",
      "source": [
        "def adf_test(series):\n",
        "    result = adfuller(series)\n",
        "    return {\"ADF Statistic\": result[0], \"p-value\": result[1]}"
      ],
      "metadata": {
        "id": "jbl94hF3-LrH"
      },
      "execution_count": 3,
      "outputs": []
    },
    {
      "cell_type": "code",
      "source": [
        "def kpss_test(series):\n",
        "    result = kpss(series, regression='c')\n",
        "    return {\"KPSS Statistic\": result[0], \"p-value\": result[1]}"
      ],
      "metadata": {
        "id": "ZJx9uJQE-OH-"
      },
      "execution_count": 4,
      "outputs": []
    },
    {
      "cell_type": "code",
      "source": [
        "stock1_adf = adf_test(stock1)\n",
        "stock1_kpss = kpss_test(stock1)"
      ],
      "metadata": {
        "colab": {
          "base_uri": "https://localhost:8080/"
        },
        "id": "ppB03X-k-O0z",
        "outputId": "ce2a832f-00aa-4d9f-9a51-5da5c7e07098"
      },
      "execution_count": 5,
      "outputs": [
        {
          "output_type": "stream",
          "name": "stderr",
          "text": [
            "<ipython-input-4-7b9acc218a38>:2: InterpolationWarning: The test statistic is outside of the range of p-values available in the\n",
            "look-up table. The actual p-value is smaller than the p-value returned.\n",
            "\n",
            "  result = kpss(series, regression='c')\n"
          ]
        }
      ]
    },
    {
      "cell_type": "code",
      "source": [
        "stock2_adf = adf_test(stock2)\n",
        "stock2_kpss = kpss_test(stock2)"
      ],
      "metadata": {
        "colab": {
          "base_uri": "https://localhost:8080/"
        },
        "id": "0cSBxbrn-Rd5",
        "outputId": "8a3aa73c-509e-4617-9295-dc21ebca5cbe"
      },
      "execution_count": 6,
      "outputs": [
        {
          "output_type": "stream",
          "name": "stderr",
          "text": [
            "<ipython-input-4-7b9acc218a38>:2: InterpolationWarning: The test statistic is outside of the range of p-values available in the\n",
            "look-up table. The actual p-value is smaller than the p-value returned.\n",
            "\n",
            "  result = kpss(series, regression='c')\n"
          ]
        }
      ]
    },
    {
      "cell_type": "code",
      "source": [
        "print(\"Stock 1 (AAPL):\", stock1_adf, stock1_kpss)\n",
        "print(\"Stock 2 (MSFT):\", stock2_adf, stock2_kpss)"
      ],
      "metadata": {
        "colab": {
          "base_uri": "https://localhost:8080/"
        },
        "id": "vnKS7YUa-UJZ",
        "outputId": "59c51ebf-9734-40d3-b271-9e27a3d72cad"
      },
      "execution_count": 8,
      "outputs": [
        {
          "output_type": "stream",
          "name": "stdout",
          "text": [
            "Stock 1 (AAPL): {'ADF Statistic': -1.244442501723837, 'p-value': 0.6541916373819149} {'KPSS Statistic': 2.863093642652156, 'p-value': 0.01}\n",
            "Stock 2 (MSFT): {'ADF Statistic': -1.9493648157892458, 'p-value': 0.30920625688375675} {'KPSS Statistic': 3.521063026787908, 'p-value': 0.01}\n"
          ]
        }
      ]
    },
    {
      "cell_type": "code",
      "source": [
        "#applying differencing to make the data stationary since the original data is not\n",
        "stock1_diff = stock1.diff().dropna()\n",
        "stock2_diff = stock2.diff().dropna()"
      ],
      "metadata": {
        "id": "G4ZhHZDa-my2"
      },
      "execution_count": 9,
      "outputs": []
    },
    {
      "cell_type": "code",
      "source": [
        "stock1_adf_diff = adf_test(stock1_diff)\n",
        "stock1_kpss_diff = kpss_test(stock1_diff)"
      ],
      "metadata": {
        "colab": {
          "base_uri": "https://localhost:8080/"
        },
        "id": "jv_8fd8d-8z_",
        "outputId": "988712a5-e3f0-40a9-dce8-d1f0b19d7758"
      },
      "execution_count": 10,
      "outputs": [
        {
          "output_type": "stream",
          "name": "stderr",
          "text": [
            "<ipython-input-4-7b9acc218a38>:2: InterpolationWarning: The test statistic is outside of the range of p-values available in the\n",
            "look-up table. The actual p-value is greater than the p-value returned.\n",
            "\n",
            "  result = kpss(series, regression='c')\n"
          ]
        }
      ]
    },
    {
      "cell_type": "code",
      "source": [
        "stock2_adf_diff = adf_test(stock2_diff)\n",
        "stock2_kpss_diff = kpss_test(stock2_diff)"
      ],
      "metadata": {
        "colab": {
          "base_uri": "https://localhost:8080/"
        },
        "id": "uCM3EvZ9-_6q",
        "outputId": "bbd2b6d8-c98b-4d86-e832-b808f3d69dae"
      },
      "execution_count": 11,
      "outputs": [
        {
          "output_type": "stream",
          "name": "stderr",
          "text": [
            "<ipython-input-4-7b9acc218a38>:2: InterpolationWarning: The test statistic is outside of the range of p-values available in the\n",
            "look-up table. The actual p-value is greater than the p-value returned.\n",
            "\n",
            "  result = kpss(series, regression='c')\n"
          ]
        }
      ]
    },
    {
      "cell_type": "code",
      "source": [
        "print(\"After Differencing:\")\n",
        "print(\"Stock 1 (AAPL):\", stock1_adf_diff, stock1_kpss_diff)\n",
        "print(\"Stock 2 (MSFT):\", stock2_adf_diff, stock2_kpss_diff)"
      ],
      "metadata": {
        "colab": {
          "base_uri": "https://localhost:8080/"
        },
        "id": "j18JKyuo_CLN",
        "outputId": "e8295eba-b2b5-4ca5-9d43-5ea366125e75"
      },
      "execution_count": 12,
      "outputs": [
        {
          "output_type": "stream",
          "name": "stdout",
          "text": [
            "After Differencing:\n",
            "Stock 1 (AAPL): {'ADF Statistic': -20.723233887480465, 'p-value': 0.0} {'KPSS Statistic': 0.10392532262456407, 'p-value': 0.1}\n",
            "Stock 2 (MSFT): {'ADF Statistic': -17.8811585605997, 'p-value': 3.0020398790984938e-30} {'KPSS Statistic': 0.09566479048520705, 'p-value': 0.1}\n"
          ]
        }
      ]
    },
    {
      "cell_type": "code",
      "source": [
        "#differenced data is found to be stationary"
      ],
      "metadata": {
        "id": "l3W_JaVt_FB7"
      },
      "execution_count": null,
      "outputs": []
    }
  ]
}