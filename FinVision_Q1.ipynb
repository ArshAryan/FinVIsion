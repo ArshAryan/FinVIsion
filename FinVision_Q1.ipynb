{
  "nbformat": 4,
  "nbformat_minor": 0,
  "metadata": {
    "colab": {
      "provenance": []
    },
    "kernelspec": {
      "name": "python3",
      "display_name": "Python 3"
    },
    "language_info": {
      "name": "python"
    }
  },
  "cells": [
    {
      "cell_type": "code",
      "execution_count": 1,
      "metadata": {
        "id": "lyJpeympgwM7"
      },
      "outputs": [],
      "source": [
        "import requests\n",
        "from bs4 import BeautifulSoup\n",
        "import pandas as pd\n",
        "import yfinance as yf"
      ]
    },
    {
      "cell_type": "code",
      "source": [
        "#fetching stock details\n",
        "\n",
        "def fetch_stock_data(stock_url):\n",
        "    response = requests.get(stock_url)\n",
        "    soup = BeautifulSoup(response.text, 'html.parser')\n",
        "    data = {}\n",
        "    try:\n",
        "        data['PE'] = soup.find(string=\"Market Cap\").find_next(class_=\"value\").text.strip()\n",
        "        data['EPS'] = soup.find(string=\"EPS\").find_next(class_=\"value\").text.strip()\n",
        "        data['52_Week_High'] = soup.find(string=\"52 Week High\").find_next(class_=\"value\").text.strip()\n",
        "        data['52_Week_Low'] = soup.find(string=\"52 Week Low\").find_next(class_=\"value\").text.strip()\n",
        "        data['LTP'] = soup.find(string=\"LTP\").find_next(class_=\"value\").text.strip()\n",
        "        data['Market_Cap'] = soup.find(string=\"Market Cap\").find_next(class_=\"value\").text.strip()\n",
        "        data['Volume'] = soup.find(string=\"Volume\").find_next(class_=\"value\").text.strip()\n",
        "        data['Change_Percentage'] = soup.find(string=\"Change\").find_next(class_=\"value\").text.strip()\n",
        "    except AttributeError as e:\n",
        "        print(f\"Data missing for some fields: {e}\")\n",
        "    return data\n"
      ],
      "metadata": {
        "id": "Kj52aLysgyve"
      },
      "execution_count": 2,
      "outputs": []
    },
    {
      "cell_type": "code",
      "source": [
        "#stock returns\n",
        "def fetch_returns(stock_symbols):\n",
        "    returns_data = []\n",
        "    for symbol in stock_symbols:\n",
        "        ticker = yf.Ticker(symbol + \".NS\")\n",
        "        history = ticker.history(period=\"5y\")\n",
        "\n",
        "        if history.empty:\n",
        "            returns_data.append({'Stock': symbol, '6M_Return': None, '1Y_Return': None, '5Y_Return': None})\n",
        "            continue\n",
        "\n",
        "        close_prices = history['Close']\n",
        "        returns = {\n",
        "            '6M_Return': ((close_prices.iloc[-1] / close_prices.iloc[-126]) - 1) * 100 if len(close_prices) > 126 else None,\n",
        "            '1Y_Return': ((close_prices.iloc[-1] / close_prices.iloc[-252]) - 1) * 100 if len(close_prices) > 252 else None,\n",
        "            '5Y_Return': ((close_prices.iloc[-1] / close_prices.iloc[0]) - 1) * 100 if len(close_prices) > 0 else None\n",
        "        }\n",
        "        returns['Stock'] = symbol\n",
        "        returns_data.append(returns)\n",
        "\n",
        "    return pd.DataFrame(returns_data)"
      ],
      "metadata": {
        "id": "7pSIG7RxhEhR"
      },
      "execution_count": 3,
      "outputs": []
    },
    {
      "cell_type": "code",
      "source": [
        "def main():\n",
        "    nifty50_url = \"https://www.screener.in/company/\"\n",
        "    stocks = [\"RELIANCE\", \"TCS\", \"INFY\"]\n",
        "\n",
        "    stock_data = []\n",
        "    for stock in stocks:\n",
        "        stock_url = f\"{nifty50_url}{stock}/\"\n",
        "        data = fetch_stock_data(stock_url)\n",
        "        data['Stock'] = stock\n",
        "        stock_data.append(data)\n",
        "    stock_df = pd.DataFrame(stock_data)\n",
        "\n",
        "    #returns data\n",
        "    returns_df = fetch_returns(stocks)\n",
        "\n",
        "    final_df = pd.merge(stock_df, returns_df, on='Stock', how='left')\n",
        "\n",
        "    print(\"Final DataFrame:\")\n",
        "    print(returns_df)\n",
        "\n",
        "if __name__ == \"__main__\":\n",
        "    main()"
      ],
      "metadata": {
        "colab": {
          "base_uri": "https://localhost:8080/"
        },
        "id": "tnlB238zhQAa",
        "outputId": "dd99152f-1e67-447c-b3c5-4a23295c87db"
      },
      "execution_count": 4,
      "outputs": [
        {
          "output_type": "stream",
          "name": "stdout",
          "text": [
            "Data missing for some fields: 'NoneType' object has no attribute 'find_next'\n",
            "Data missing for some fields: 'NoneType' object has no attribute 'find_next'\n",
            "Data missing for some fields: 'NoneType' object has no attribute 'find_next'\n",
            "Final DataFrame:\n",
            "   6M_Return  1Y_Return   5Y_Return     Stock\n",
            "0 -12.539191   4.142005   81.653247  RELIANCE\n",
            "1  15.911730  25.922391  136.459431       TCS\n",
            "2  35.377283  39.130994  215.967256      INFY\n"
          ]
        }
      ]
    },
    {
      "cell_type": "code",
      "source": [],
      "metadata": {
        "id": "ADiFwJbVhhzE"
      },
      "execution_count": null,
      "outputs": []
    }
  ]
}